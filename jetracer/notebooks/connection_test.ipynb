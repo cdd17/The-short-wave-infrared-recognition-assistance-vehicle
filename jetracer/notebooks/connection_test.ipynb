{
 "cells": [
  {
   "cell_type": "code",
   "execution_count": 1,
   "id": "abae6883",
   "metadata": {},
   "outputs": [
    {
     "name": "stdout",
     "output_type": "stream",
     "text": [
      "收到回复: ok lets go\n"
     ]
    }
   ],
   "source": [
    "import socket\n",
    "\n",
    "# 创建 TCP 套接字\n",
    "client_socket = socket.socket(socket.AF_INET, socket.SOCK_STREAM)\n",
    "client_socket.connect(('172.20.10.9', 65432))  # 替换为电脑的IP地址\n",
    "client_socket.sendall(b\"Hello from the car!\")\n",
    "data = client_socket.recv(1024)\n",
    "print(f\"收到回复: {data.decode()}\")\n",
    "\n",
    "client_socket.close()"
   ]
  },
  {
   "cell_type": "code",
   "execution_count": null,
   "id": "aa45395d",
   "metadata": {},
   "outputs": [],
   "source": []
  }
 ],
 "metadata": {
  "kernelspec": {
   "display_name": "Python 3",
   "language": "python",
   "name": "python3"
  },
  "language_info": {
   "codemirror_mode": {
    "name": "ipython",
    "version": 3
   },
   "file_extension": ".py",
   "mimetype": "text/x-python",
   "name": "python",
   "nbconvert_exporter": "python",
   "pygments_lexer": "ipython3",
   "version": "3.6.9"
  }
 },
 "nbformat": 4,
 "nbformat_minor": 5
}
